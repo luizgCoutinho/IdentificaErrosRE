{
  "nbformat": 4,
  "nbformat_minor": 0,
  "metadata": {
    "colab": {
      "provenance": [],
      "include_colab_link": true
    },
    "kernelspec": {
      "name": "python3",
      "display_name": "Python 3"
    }
  },
  "cells": [
    {
      "cell_type": "markdown",
      "metadata": {
        "id": "view-in-github",
        "colab_type": "text"
      },
      "source": [
        "<a href=\"https://colab.research.google.com/github/luizgCoutinho/IdentificaErrosRE/blob/main/2023_Q3_PLN_ATIVIDADE_PR%C3%81TICA_02.ipynb\" target=\"_parent\"><img src=\"https://colab.research.google.com/assets/colab-badge.svg\" alt=\"Open In Colab\"/></a>"
      ]
    },
    {
      "cell_type": "markdown",
      "metadata": {
        "id": "Y6QILOdpOjwv"
      },
      "source": [
        "# **Processamento de Linguagem Natural [2023.Q3]**\n",
        "Prof. Alexandre Donizeti Alves"
      ]
    },
    {
      "cell_type": "markdown",
      "metadata": {
        "id": "8m67OOx9MX_3"
      },
      "source": [
        "### **ATIVIDADE PRÁTICA 02 [Extração e Pré-processamento de Dados + Expressões Regulares]**\n"
      ]
    },
    {
      "cell_type": "markdown",
      "metadata": {
        "id": "5Gk0nHKabBT-"
      },
      "source": [
        "A **ATIVIDADE PRÁTICA 02** deve ser feita utilizando o **Google Colab** com uma conta\n",
        "sua vinculada ao Gmail. O link do seu notebook, armazenado no Google Drive, além do link de um repositório no GitHub e os principais resultados da atividade, devem ser enviados usando o seguinte formulário:\n",
        "\n",
        "> https://forms.gle/83JggUJ1mhgWviEaA\n",
        "\n",
        "\n",
        "**IMPORTANTE**: A submissão deve ser feita até o dia 20/10 (sexta-feira) APENAS POR UM INTEGRANTE DA EQUIPE, até às 23h59. Por favor, lembre-se de dar permissão de ACESSO IRRESTRITO para o professor da disciplina de PLN."
      ]
    },
    {
      "cell_type": "markdown",
      "metadata": {
        "id": "D7hJlilKM485"
      },
      "source": [
        "### **EQUIPE**\n",
        "\n",
        "---"
      ]
    },
    {
      "cell_type": "markdown",
      "source": [
        "**POR FAVOR, PREENCHER OS INTEGRANDES DA SUA EQUIPE:**\n",
        "\n",
        "\n",
        "**Integrante 01:**\n",
        "\n",
        "`Luiz Gustavo Barros Coutinho Paiva\n",
        "RA: 11202020464`"
      ],
      "metadata": {
        "id": "tnIArN0QY-Ek"
      }
    },
    {
      "cell_type": "markdown",
      "source": [
        "### **LIVRO**\n",
        "---"
      ],
      "metadata": {
        "id": "6yExhaebs-nD"
      }
    },
    {
      "cell_type": "markdown",
      "source": [
        "`Processamento de Linguagem Natural - Conceitos, Técnicas e Aplicações em Português.`\n",
        "\n",
        ">\n",
        "\n",
        "Disponível gratuitamente em:\n",
        "  \n",
        "  > https://brasileiraspln.com/livro-pln/1a-edicao/.\n",
        "\n",
        "\n",
        "**POR FAVOR, PREENCHER OS CAPITULOS SELECIONADOS PARA A SUA EQUIPE:**\n",
        "\n",
        "`Primeiro capítulo: 12`\n",
        "\n",
        "`Segundo capítulo: 14`\n",
        "\n"
      ],
      "metadata": {
        "id": "DjJM_qhEZRy6"
      }
    },
    {
      "cell_type": "markdown",
      "metadata": {
        "id": "EtjgWQRzNphL"
      },
      "source": [
        "### **DESCRIÇÃO**\n",
        "---"
      ]
    },
    {
      "cell_type": "markdown",
      "source": [
        "Implementar um `notebook` no `Google Colab` para identificar ERROS em 2 (DOIS) capítulos do livro **Processamento de Linguagem Natural - Conceitos, Técnicas e Aplicações em Português**.\n",
        "\n",
        "Os capítulos devem ser selecionados na seguinte planilha:\n",
        "\n",
        "https://docs.google.com/spreadsheets/d/1ZutzQ3v1OJgsgzCvCwxXlRIQ3ChXNlHNvB63JQvYsbo/edit?usp=sharing\n",
        "\n",
        ">\n",
        "\n",
        "**IMPORTANTE:** É obrigatório usar o e-mail da UFABC.\n",
        "\n",
        ">\n",
        "\n",
        "\n",
        "**DICA:** Por favor, insira o seu nome ou da sua equipe na ordem definida na planilha. Por exemplo, se a linha correspondente ao o GRUPO 5 já foi preenchida, a próxima equipe (GRUPO 6) deverá ser informada na próxima linha da planilha.\n",
        "\n"
      ],
      "metadata": {
        "id": "fXTwkiiGs2BV"
      }
    },
    {
      "cell_type": "markdown",
      "source": [
        "### **TIPOS DE ERROS**\n",
        "---\n"
      ],
      "metadata": {
        "id": "eD_AJQhrwJQ6"
      }
    },
    {
      "cell_type": "markdown",
      "source": [
        "**IMPORTANTE**: consulta feita no ChatGPT\n",
        ">\n",
        "\n",
        "Um `programa Python` que utilize `expressões regulares` pode ajudar a identificar vários **tipos de erros** comuns em **livros**, especialmente erros de formatação e problemas relacionados à consistência do texto. Aqui estão alguns exemplos de erros comuns que podem ser identificados usando expressões regulares:\n",
        "\n",
        "* Erros de gramática e ortografia: erros de digitação, concordância verbal e nominal, uso incorreto de pontuação e outros erros gramaticais.\n",
        "\n",
        "* Problemas de formatação: você pode usar expressões regulares para encontrar erros de formatação, como espaços em excesso, tabulações inadequadas ou alinhamentos inconsistentes.\n",
        "\n",
        "* Abreviações e acrônimos: você pode usar expressões regulares para encontrar abreviações ou acrônimos que não foram definidos ou explicados anteriormente no texto.\n",
        "\n",
        "* Citações e referências: expressões regulares podem ser úteis para localizar citações ou referências que precisam de formatação especial.\n",
        "\n",
        "* OUTROS TIPOS DE ERROS: não considerem apenas os tipos de erros citados acima.\n",
        "\n",
        "\n",
        "**IMPORTANTE:** Lembre-se de que expressões regulares podem ser poderosas, mas também complexas. Dependendo da complexidade dos erros que você deseja identificar, pode ser necessário ajustar as expressões regulares de acordo com as características específicas do seu texto. Além disso, é importante ter em mente que as expressões regulares podem não ser a melhor ferramenta para todos os tipos de erros em livros, especialmente problemas mais contextuais ou semânticos, que podem exigir abordagens de PLN mais avançadas.\n",
        "\n",
        "\n",
        "\n"
      ],
      "metadata": {
        "id": "gz0DTI0KYmn6"
      }
    },
    {
      "cell_type": "markdown",
      "source": [
        "### **CRITÉRIOS DE AVALIAÇÃO**\n",
        "---\n"
      ],
      "metadata": {
        "id": "gWsBYQNtxmum"
      }
    },
    {
      "cell_type": "markdown",
      "source": [
        "A equipe que **realizar mais testes** e/ou **identificar mais erros** terá o peso diminuido na AVALIAÇÃO (Prova Escrita) em **25%** (caindo de 40 para 30). Os testes e possíveis erros devem ser contabizados de maneira separada.\n",
        "\n",
        ">\n",
        "\n",
        "Além disso, **por se tratar de um livro**, há um teste importante que deve ser feito. Lembre-se que o teste deve ser feito utilizando expressões regulares. A equipe que realizar esse teste, mesmo que o erro não ocorra nos capítulos selecionados, terá o peso diminuido na AVALIAÇÃO (Prova Escrita) em **25%** (caindo de 40 para 30).\n",
        "\n",
        "> A equipe pode considerar outros capítulos do livro para tentar identificar esse tipo de erro.\n",
        "\n",
        "**Se for a mesma equipe, o peso da avaliação será reduzido em 50% (caindo de 40 para 20)**.\n",
        "\n",
        ">\n",
        "\n",
        "**IMPORTANTE**: a diminuição no peso da AVALIAÇÃO será aplicado para todos os membros da equipe. Esse critério será aplicado apenas para uma equipe, considerando como critério de desempate a equipe que entregar primeiro a atividade no formulário.\n",
        "\n",
        "\n",
        "\n"
      ],
      "metadata": {
        "id": "5iHdx4BXYruQ"
      }
    },
    {
      "cell_type": "markdown",
      "source": [
        "### **IMPLEMENTAÇÃO**\n",
        "---"
      ],
      "metadata": {
        "id": "nw09lujGvfjc"
      }
    },
    {
      "cell_type": "code",
      "source": [
        "# por favor, inserir o código a partir daqui...\n",
        "\n",
        "import requests\n",
        "from bs4 import BeautifulSoup\n",
        "import re\n",
        "\n",
        "# URL do capítulo do livro\n",
        "url1 = \"https://brasileiraspln.com/livro-pln/1a-edicao/parte6/cap12/cap12.html\"\n",
        "url2 = \"https://brasileiraspln.com/livro-pln/1a-edicao/parte7/cap14/cap14.html\"\n",
        "\n",
        "# Função para extrair o texto do HTML e aplicar expressões regulares para identificar erros\n",
        "def extrair_texto(url):\n",
        "    # Faz o download do conteúdo da página\n",
        "    response = requests.get(url, headers={'Content-Type': 'text/html; charset=utf-8'})\n",
        "    if response.status_code == 200:\n",
        "        # Utilize a codificação utf-8\n",
        "        response.encoding = 'utf-8'\n",
        "        html_content = response.text\n",
        "        soup = BeautifulSoup(html_content, \"html.parser\")\n",
        "        # Extrai o texto de parágrafos, títulos e subtítulos\n",
        "        texto = \"\"\n",
        "        for paragraph in soup.find_all([\"p\", \"h1\", \"h2\", \"h3\"]):\n",
        "            texto += paragraph.get_text() + \" \"\n",
        "\n",
        "\n",
        "        return texto\n",
        "\n",
        "def encontrar_erros(texto):\n",
        "    matches = []\n",
        "    # Encontrar palavras com mais de tres letras repetidas (ex: issso)\n",
        "    padrao_repeticao_letras = r'\\b(?![0-9])\\w*?([a-zA-Z])\\1{2,}\\w*?(?![0-9])\\b'\n",
        "    matches_repeticao_letras = re.finditer(padrao_repeticao_letras, texto, re.IGNORECASE)\n",
        "    matches += matches_repeticao_letras\n",
        "    # Expressão regular para encontrar palavras números no meio\n",
        "    padrao_letras_numeros_misturados = r'\\b\\w*[a-zA-Z]+\\d+\\w+\\b'\n",
        "    matches_letras_numeros_misturados = re.finditer(padrao_letras_numeros_misturados, texto)\n",
        "    matches += matches_letras_numeros_misturados\n",
        "\n",
        "    padrao_mais_de_um_acento = r'\\b\\w*\\b\\s{2,}\\b\\w*\\b'\n",
        "    matches_padrao_palavras_com_mais_de_um_acento = re.finditer(padrao_palavras_com_mais_de_um_acento, texto, re.IGNORECASE)\n",
        "    matches += matches_padrao_palavras_com_mais_de_um_acento\n",
        "    erros = []\n",
        "    for match in matches:\n",
        "        erro = match.group(0)\n",
        "        erros.append(erro)\n",
        "\n",
        "    return erros\n",
        "\n",
        "# Chama a função pra identificar erros\n",
        "texto_capitulo12 = extrair_texto(url1)\n",
        "texto_capitulo14 = extrair_texto(url2)\n",
        "\n",
        "# Encontrar erros no texto\n",
        "erros_encontrados12 = encontrar_erros(texto_capitulo12)\n",
        "erros_encontrados14 = encontrar_erros(texto_capitulo12)\n",
        "\n",
        "erros_total = erros_encontrados12\n",
        "# Imprimir os erros encontrados\n",
        "print(\"Erros encontrados:\")\n",
        "for erro in erros_total:\n",
        "    print(erro)\n",
        "\n",
        "print(f\"Quantidade de erros: {len(erros_total)}\")\n"
      ],
      "metadata": {
        "id": "RyUailD5vi9E",
        "colab": {
          "base_uri": "https://localhost:8080/"
        },
        "outputId": "6be4bbe1-4db4-40e4-ff95-e8c54da7325d"
      },
      "execution_count": 93,
      "outputs": [
        {
          "output_type": "stream",
          "name": "stdout",
          "text": [
            "Erros encontrados:\n",
            "12  Resolução\n",
            "Fonseca  Aline\n",
            "Vanin  Renata\n",
            "Vieira  26\n",
            "1   A\n",
            "2   O\n",
            "3   Rio\n",
            "Quantidade de erros: 7\n"
          ]
        }
      ]
    },
    {
      "cell_type": "code",
      "source": [
        "import re\n",
        "\n",
        "def encontrar_erros(texto):\n",
        "    # Expressão regular para encontrar palavras com repetição de letras (ex: abbbbac)\n",
        "    padrao_repeticao_letras = r'\\b\\w*\\b\\s{2,}\\b\\w*\\b'\n",
        "\n",
        "\n",
        "    erros = []\n",
        "    matches = re.finditer(padrao_repeticao_letras, texto, re.IGNORECASE)\n",
        "\n",
        "    for match in matches:\n",
        "        erro = match.group(0)\n",
        "        erros.append(erro)\n",
        "\n",
        "    return erros\n",
        "\n",
        "# Seu texto com erros\n",
        "texto_com_erros = \"Apliei uma visão do futuro na  minha   carárão e estou  0cãinhando.   paáa o sucessssso.\"\n",
        "\n",
        "# Encontrar erros no texto\n",
        "erros_encontrados = encontrar_erros(texto_com_erros)\n",
        "\n",
        "# Imprimir os erros encontrados\n",
        "print(\"Erros encontrados:\")\n",
        "for erro in erros_encontrados:\n",
        "    print(erro)\n"
      ],
      "metadata": {
        "colab": {
          "base_uri": "https://localhost:8080/"
        },
        "id": "UdF_YGHnmRPt",
        "outputId": "75fb2cdc-3f34-486a-8638-fe379a190b72"
      },
      "execution_count": 90,
      "outputs": [
        {
          "output_type": "stream",
          "name": "stdout",
          "text": [
            "Erros encontrados:\n",
            "na  minha\n",
            "   carárão\n",
            "estou  0cãinhando\n"
          ]
        }
      ]
    }
  ]
}